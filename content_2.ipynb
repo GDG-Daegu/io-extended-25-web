{
 "cells": [
  {
   "cell_type": "markdown",
   "id": "97388e4a",
   "metadata": {},
   "source": [
    "### **2. Stitch로 디자인하고 Firebase 배포하기**\n",
    "\n",
    "**활동 목표:** 구글의 웹 디자인 서비스 'Stitch'로 간단한 CRM 웹 앱 UI를 디자인하고, 그 코드를 React 프로젝트로 변환하여 Firebase로 배포합니다.\n",
    "\n",
    "**실습 단계:**\n",
    "\n",
    "#### **Step 1. Stitch로 CRM 웹 앱 UI 디자인하기**\n",
    "\n",
    "1.  **[stitch.withgoogle.com](https://stitch.withgoogle.com/)** 에 접속하여 새 프로젝트를 시작합니다.\n",
    "\n",
    "2.  아래 시나리오에 맞게 UI를 디자인해 보세요. Stitch는 직관적인 도구이므로, 자유롭게 요소를 추가하며 만들어보세요.\n",
    "\n",
    "---\n",
    "\n",
    "    ### 디자인 시나리오 (Google Stitch UI 기반)\n",
    "\n",
    "    **제목:** 멀티 페이지 React CRM 대시보드 UI 디자인\n",
    "\n",
    "    **개요:**\n",
    "    Google Stitch UI 시스템을 활용하여, 깔끔하고 기능적인 멀티 페이지 CRM(고객 관계 관리) 대시보드 UI를 디자인합니다. 이 디자인은 재사용 가능한 컴포넌트와 명확한 사용자 흐름을 중점으로 구성됩니다.\n",
    "\n",
    "    **주요 디자인 요소:**\n",
    "\n",
    "    1.  **전체 레이아웃:**\n",
    "        * 상단에 고정된 **헤더 (Header)**: 주요 내비게이션 및 사용자 정보 표시\n",
    "        * 좌측에 고정된 **사이드바 (Sidebar)**: 주요 메뉴 항목을 포함\n",
    "\n",
    "    2.  **사이드바 메뉴 구성:**\n",
    "        * **대시보드 (Dashboard):** 홈 페이지 역할을 하며, 주요 요약 정보를 한눈에 볼 수 있도록 디자인합니다.\n",
    "        * **고객 목록 (Customers):** 고객 정보를 테이블 형태로 볼 수 있는 페이지로, 필터링 및 정렬 기능이 포함된 디자인을 제안합니다.\n",
    "\n",
    "    3.  **페이지별 디자인 상세:**\n",
    "\n",
    "        * **대시보드 페이지 (`/`)**:\n",
    "            * **환영 메시지**: 사용자에게 친근한 인사를 건네는 문구.\n",
    "            * **요약 카드**: 고객 수, 총 매출, 신규 문의 등 핵심 지표를 담은 카드형 컴포넌트. 각 카드는 아이콘과 간단한 그래프를 포함하여 시각적 효과를 높입니다.\n",
    "\n",
    "        * **고객 목록 페이지 (`/customers`)**:\n",
    "            * **테이블 디자인**: 고객 이름, 이메일, 전화번호, 가입일 등 주요 정보를 담은 깔끔한 테이블을 디자인합니다.\n",
    "            * **상호작용 요소**: 테이블 헤더를 클릭하여 정렬할 수 있는 기능을 포함하고, 검색 필드를 추가하여 특정 고객을 쉽게 찾을 수 있도록 합니다.\n",
    "\n",
    "    4.  **UI 컴포넌트:**\n",
    "        * Google Stitch UI의 Card, Table, Button, Input, Sidebar 컴포넌트 등을 활용하여 일관된 디자인을 유지합니다.\n",
    "        * 각 컴포넌트의 상태(호버, 클릭, 비활성화 등)에 대한 시각적 피드백을 명확하게 디자인합니다.\n",
    "\n",
    "---\n",
    "\n",
    "3.  완성된 stitch 디자인의 **코드 복사** 기능을 사용해 생성된 코드를 모두 복사합니다.\n"
   ]
  },
  {
   "cell_type": "markdown",
   "id": "a721ef1e",
   "metadata": {},
   "source": [
    "#### **Step 2. Colab에서 웹페이지 만들기**\n",
    "\n",
    "1. 작업 폴더 생성 및 이동\n",
    "먼저 웹사이트 파일을 담을 폴더를 만들고 그 안으로 들어갑니다. 아래 코드를 실행해 주세요."
   ]
  },
  {
   "cell_type": "code",
   "execution_count": null,
   "id": "fceb464c",
   "metadata": {
    "vscode": {
     "languageId": "plaintext"
    }
   },
   "outputs": [],
   "source": [
    "!mkdir simple-crm-app\n",
    "%cd simple-crm-app"
   ]
  },
  {
   "cell_type": "markdown",
   "id": "eace755c",
   "metadata": {},
   "source": [
    "2. index.html 파일 생성\n",
    "\n",
    "- 이제 아래 코드를 실행해서 simple-crm-app 폴더 안에 index.html 파일을 만듭니다."
   ]
  },
  {
   "cell_type": "code",
   "execution_count": null,
   "id": "1f631171",
   "metadata": {
    "vscode": {
     "languageId": "plaintext"
    }
   },
   "outputs": [],
   "source": [
    "%%writefile index.html\n",
    "/*stitch로 생성한 디자인 코드를 붙여넣으세요 */"
   ]
  },
  {
   "cell_type": "markdown",
   "id": "370103d5",
   "metadata": {},
   "source": [
    "### **Step 3: Firebase & Google Cloud AI로 CRM 앱 완성하기**\n",
    "\n",
    "지금까지 우리는 Stitch로 멋진 CRM 앱의 프론트엔드를 만들었습니다. 이제 Firebase를 통해 이 앱을 배포하고, 한 걸음 더 나아가 **Google Cloud 크레딧을 사용해 AI를 활용하는 경험**을 해볼 수 있는 시간입니다.\n",
    "\n",
    "#### **상황: AI로 고객 관리 효율 높이기**\n",
    "\n",
    "> 여러분이 만든 CRM 앱에 새로운 기능 요청이 들어왔다고 상상해 보세요. \"고객이 프로필 사진으로 부적절한 이미지를 올리거나, 제품 사진을 업로드했을 때, AI가 자동으로 이미지를 분석해서 '사람', '자동차', '고양이' 같은 태그를 달아주면 좋겠습니다\\!\"\n",
    ">\n",
    "> 이처럼 이미지나 텍스트를 분석하는 강력한 AI 기능은 대부분 유료 서비스입니다. 바로 이 지점에서, 여러분이 받은 **$5의 Google Cloud 크레딧**이 사용됩니다. 우리는 이 크레딧을 사용해 Firebase 프로젝트를 업그레이드하고, Google Cloud의 전문가용 AI 서비스를 우리 앱에 연동해 볼 겁니다.\n",
    "\n",
    "-----\n",
    "\n",
    "#### **1. Firebase 설정 및 Google Cloud 연동**\n",
    "\n",
    "1.  **Firebase CLI 설치 및 로그인:**\n",
    "    아래 명령어를 실행하여 Firebase 개발 도구를 설치하고, 안내에 따라 구글 계정으로 로그인하여 사용 권한을 얻습니다.\n"
   ]
  },
  {
   "cell_type": "code",
   "execution_count": null,
   "id": "8431d6ba",
   "metadata": {
    "vscode": {
     "languageId": "plaintext"
    }
   },
   "outputs": [],
   "source": [
    "# Firebase CLI (Command Line Interface)를 설치합니다.\n",
    "!curl -sL https://firebase.tools | bash\n",
    "\n",
    "# Colab 환경에서 구글 계정으로 로그인합니다.\n",
    "# 출력되는 URL을 새 탭에서 열고, 로그인 후 나타나는 인증 코드를 복사하여\n",
    "# 아래 입력창에 붙여넣고 Enter를 누르세요.\n",
    "!firebase login --no-localhost "
   ]
  },
  {
   "cell_type": "markdown",
   "id": "70c6bea8",
   "metadata": {},
   "source": [
    "\n",
    "2.  **Firebase 요금제 업그레이드 (크레딧 사용처\\! ✨):**\n",
    "      * **[Firebase 콘솔](https://console.firebase.google.com/)** 에 접속하여 새 프로젝트를 만들고, 왼쪽 하단의 `Spark 요금제` 옆 **`업그레이드`** 버튼을 클릭하세요.\n",
    "      * 안내에 따라 Cloud Billing 계정을 선택(또는 생성)하여 **`Blaze(종량제)` 요금제로 변경**합니다. 이 과정을 통해 여러분의 프로젝트는 Google Cloud의 모든 유료 서비스를 사용할 수 있는 상태가 되며, 여기서 발생하는 요금은 여러분의 크레딧에서 자동으로 차감됩니다.\n",
    "\n",
    "3.  **Google Cloud Vision API 활성화:**\n",
    "\n",
    "      * **[Google Cloud 콘솔](https://console.cloud.google.com/)** 로 이동하여 방금 업그레이드한 프로젝트를 선택하세요.\n",
    "      * 검색창에 \\*\\*'Cloud Vision API'\\*\\*를 검색하고, 해당 API를 **'사용 설정(Enable)'** 합니다.\n",
    "\n",
    "-----\n",
    "\n",
    "#### **2. Firebase Gemini로 Cloud Function 만들기.**\n",
    "\n",
    "1.  **Firebase 콘솔**의 **`함수(Functions)`** 메뉴로 이동하여 오른쪽 위 \\*\\*Gemini 아이콘(✨)\\*\\*을 클릭합니다.\n",
    "\n",
    "2.  아래의 프롬프트를 입력하여, 이미지 분석 기능을 가진 서버 코드를 생성해달라고 요청하세요.\n",
    "\n",
    "\n",
    "> Firebase Cloud Functions v2를 사용하여 자바스크립트로 HTTP onRequest 함수를 만들어줘.\n",
    "\n",
    "> 기능:\n",
    "\n",
    "> HTTP POST 요청의 body에서 { \"imageUrl\": \"...\" } 형태로 이미지 URL을 받는다.\n",
    "\n",
    "> 만약 imageUrl이 없으면, 400 에러와 함께 { \"error\": \"imageUrl is required\" } JSON을 반환한다.\n",
    "\n",
    "> @google-cloud/vision 라이브러리를 사용해 전달받은 이미지 URL의 라벨을 분석한다.\n",
    "\n",
    "> 분석 결과 중 정확도가 가장 높은 상위 5개의 라벨만 추출한다.\n",
    "\n",
    "> 성공 시 200 상태 코드와 함께 { \"labels\": [{\"description\": \"cat\", \"score\": 0.98}, ...] } 형태의 JSON을 반환한다.\n",
    "\n",
    "> Vision API 호출 중 에러가 발생하면, 500 에러와 함께 { \"error\": \"Failed to analyze image.\" } JSON을 반환한다.\n",
    "\n",
    "> 요구사항:\n",
    "\n",
    "> 모든 도메인에서 요청할 수 있도록 CORS를 허용해줘.\n",
    "\n",
    "> firebase-functions/logger를 사용해 요청 수신 및 에러 발생 시 로그를 기록해줘.\n",
    "\n",
    "> 이 함수를 실행하는 데 필요한 package.json의 dependencies 항목도 함께 알려줘.\n",
    "\n",
    "3. 프로젝트 폴더 구조 생성\n",
    "- Gemini가 생성해준 코드를 붙여넣기 전에, 필요한 폴더와 파일을 미리 만듭니다."
   ]
  },
  {
   "cell_type": "code",
   "execution_count": null,
   "id": "65559966",
   "metadata": {
    "vscode": {
     "languageId": "plaintext"
    }
   },
   "outputs": [],
   "source": [
    "# simple-crm-app 폴더 안에 functions 폴더를 생성합니다.\n",
    "!mkdir functions"
   ]
  },
  {
   "cell_type": "code",
   "execution_count": null,
   "id": "a115ad7f",
   "metadata": {
    "vscode": {
     "languageId": "plaintext"
    }
   },
   "outputs": [],
   "source": [
    "# functions 폴더 안에 package.json 파일을 생성하고 Gemini 코드를 붙여넣을 준비를 합니다.\n",
    "%%writefile functions/package.json\n",
    "/* Gemini가 만들어준 package.json의 dependencies 내용을 여기에 붙여넣으세요 */"
   ]
  },
  {
   "cell_type": "code",
   "execution_count": null,
   "id": "378d34c7",
   "metadata": {
    "vscode": {
     "languageId": "plaintext"
    }
   },
   "outputs": [],
   "source": [
    "# functions 폴더 안에 index.js 파일을 생성하고 Gemini 코드를 붙여넣을 준비를 합니다.\n",
    "%%writefile functions/index.js\n",
    "/* Gemini가 만들어준 Cloud Function 코드를 여기에 붙여넣으세요 */"
   ]
  },
  {
   "cell_type": "markdown",
   "id": "fccbc448",
   "metadata": {},
   "source": [
    "4. Cloud Function 종속성 설치\n",
    "\n",
    "- Cloud Function 실행에 필요한 라이브러리들을 설치합니다."
   ]
  },
  {
   "cell_type": "code",
   "execution_count": null,
   "id": "64fa4673",
   "metadata": {
    "vscode": {
     "languageId": "plaintext"
    }
   },
   "outputs": [],
   "source": [
    "# functions 디렉토리로 이동하여\n",
    "%cd functions\n",
    "\n",
    "# package.json에 명시된 종속성을 설치합니다.\n",
    "!npm install\n",
    "\n",
    "# 다시 프로젝트 루트 디렉토리로 돌아옵니다.\n",
    "%cd .."
   ]
  },
  {
   "cell_type": "markdown",
   "id": "ae909cc3",
   "metadata": {},
   "source": [
    "5. Firebase 배포 설정 파일 생성\n",
    "\n",
    "- 프로젝트의 루트 폴더(simple-crm-app)에 **하나의 통합된 firebase.json**과 .firebaserc 파일을 생성합니다. 이 파일들은 Firebase에게 어떤 폴더를 배포하고, 어떤 설정을 적용할지 알려주는 역할을 합니다."
   ]
  },
  {
   "cell_type": "markdown",
   "id": "fbd50d76",
   "metadata": {},
   "source": [
    "- 아래 코드를 실행한 후, 현재 경로가 /content/simple-crm-app 인지 확인하세요. 아니라면, 핸즈온 진행자에게 문의 해주세요."
   ]
  },
  {
   "cell_type": "code",
   "execution_count": null,
   "id": "5d75253c",
   "metadata": {
    "vscode": {
     "languageId": "plaintext"
    }
   },
   "outputs": [],
   "source": [
    "%ls"
   ]
  },
  {
   "cell_type": "code",
   "execution_count": null,
   "id": "395c8b06",
   "metadata": {
    "vscode": {
     "languageId": "plaintext"
    }
   },
   "outputs": [],
   "source": [
    "# .firebaserc 파일 생성: ⚠️ FIREBASE_PROJECT_ID를 본인의 ID로 꼭 교체하세요.\n",
    "%%writefile .firebaserc\n",
    "{\n",
    "    \"projects\": {\n",
    "    \"default\": \"FIREBASE_PROJECT_ID\"\n",
    "    }\n",
    "}"
   ]
  },
  {
   "cell_type": "code",
   "execution_count": null,
   "id": "4b62994b",
   "metadata": {
    "vscode": {
     "languageId": "plaintext"
    }
   },
   "outputs": [],
   "source": [
    "# 통합된 firebase.json 파일 생성\n",
    "%%writefile firebase.json\n",
    "{\n",
    "  \"functions\": {\n",
    "    \"source\": \"functions\",\n",
    "    \"runtime\": \"nodejs20\" # Gemini가 제안한 버전에 맞게 수정 (예: nodejs18, nodejs20)\n",
    "  },\n",
    "  \"hosting\": {\n",
    "    \"public\": \".\", # 현재 폴더(simple-crm-app)를 웹 콘텐츠 루트로 지정\n",
    "    \"ignore\": [\n",
    "      \"firebase.json\",\n",
    "      \".firebaserc\",\n",
    "      \"**/.*\",\n",
    "      \"**/node_modules/**\"\n",
    "    ],\n",
    "    \"rewrites\": [\n",
    "      {\n",
    "        \"source\": \"**\",\n",
    "        \"destination\": \"/index.html\"\n",
    "      }\n",
    "    ]\n",
    "  }\n",
    "}"
   ]
  },
  {
   "cell_type": "markdown",
   "id": "5a3d8a75",
   "metadata": {},
   "source": [
    "6. Cloud Function 배포 및 테스트\n",
    "\n",
    "- 이제 모든 설정이 완료되었습니다. 반드시 현재 위치가 simple-crm-app 폴더인지 확인한 후, 아래 명령어로 함수를 배포하고 테스트합니다."
   ]
  },
  {
   "cell_type": "code",
   "execution_count": null,
   "id": "bd54c556",
   "metadata": {
    "vscode": {
     "languageId": "plaintext"
    }
   },
   "outputs": [],
   "source": [
    "# Cloud Function만 먼저 배포합니다.\n",
    "# Gemini가 생성한 함수 이름이 다를 수 있으므로, 특정 이름 없이 전체 Functions를 배포합니다.\n",
    "!firebase deploy --only functions\n",
    "\n",
    "# 배포 완료 후 출력된 함수 URL을 복사하여 아래 테스트 코드에서 사용하세요."
   ]
  },
  {
   "cell_type": "markdown",
   "id": "4ce87d1b",
   "metadata": {},
   "source": [
    "9. 테스트 코드를 통해 이미지가 제대로 분석되는지 확인해보세요!"
   ]
  },
  {
   "cell_type": "code",
   "execution_count": null,
   "id": "18d824ad",
   "metadata": {
    "vscode": {
     "languageId": "plaintext"
    }
   },
   "outputs": [],
   "source": [
    "!curl -X POST \\\n",
    "  \"YOUR_DEPLOY_LINK\" \\\n",
    "  -H \"Content-Type: application/json\" \\\n",
    "  -d '{ \"imageUrl\": \"IMAGE_LINK\" }'"
   ]
  },
  {
   "cell_type": "markdown",
   "id": "9550d532",
   "metadata": {},
   "source": [
    "#### **3. 웹 페이지 배포**\n",
    "\n",
    "이제 마지막으로 Stitch로 디자인한 웹페이지(index.html)를 배포할 차례입니다."
   ]
  },
  {
   "cell_type": "code",
   "execution_count": null,
   "id": "ed3618d8",
   "metadata": {
    "vscode": {
     "languageId": "plaintext"
    }
   },
   "outputs": [],
   "source": [
    "# 현재 위치(simple-crm-app)에서 Hosting 배포를 실행합니다.\n",
    "!firebase deploy --only hosting"
   ]
  },
  {
   "cell_type": "markdown",
   "id": "b287e546",
   "metadata": {},
   "source": [
    "- **결과 확인:** 배포가 완료되면 출력되는 **Hosting URL**을 클릭하여, Stitch로 디자인한 여러분의 웹페이지를 확인하세요!"
   ]
  }
 ],
 "metadata": {
  "language_info": {
   "name": "python"
  }
 },
 "nbformat": 4,
 "nbformat_minor": 5
}
